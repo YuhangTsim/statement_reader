{
 "cells": [
  {
   "cell_type": "code",
   "execution_count": 1,
   "metadata": {},
   "outputs": [],
   "source": [
    "import sys\n",
    "import re\n",
    "sys.path.append('/Users/yuhangzhan/Git/statement_reader')"
   ]
  },
  {
   "cell_type": "code",
   "execution_count": 5,
   "metadata": {},
   "outputs": [],
   "source": [
    "from model.credit_statement import CreditStatement"
   ]
  },
  {
   "cell_type": "code",
   "execution_count": null,
   "metadata": {},
   "outputs": [],
   "source": [
    " dd"
   ]
  },
  {
   "cell_type": "code",
   "execution_count": 3,
   "metadata": {},
   "outputs": [
    {
     "ename": "ModuleNotFoundError",
     "evalue": "No module named 'statement.BOA'",
     "output_type": "error",
     "traceback": [
      "\u001b[0;31m---------------------------------------------------------------------------\u001b[0m",
      "\u001b[0;31mModuleNotFoundError\u001b[0m                       Traceback (most recent call last)",
      "\u001b[0;32m<ipython-input-3-e9d895b8df98>\u001b[0m in \u001b[0;36m<module>\u001b[0;34m\u001b[0m\n\u001b[0;32m----> 1\u001b[0;31m \u001b[0;32mfrom\u001b[0m \u001b[0mstatement\u001b[0m\u001b[0;34m.\u001b[0m\u001b[0mBOA\u001b[0m\u001b[0;34m.\u001b[0m\u001b[0mcredit\u001b[0m \u001b[0;32mimport\u001b[0m \u001b[0mBankOfAmerica_Credit\u001b[0m\u001b[0;34m\u001b[0m\u001b[0;34m\u001b[0m\u001b[0m\n\u001b[0m",
      "\u001b[0;31mModuleNotFoundError\u001b[0m: No module named 'statement.BOA'"
     ]
    }
   ],
   "source": [
    "from statement.BOA.credit import BankOfAmerica_Credit"
   ]
  },
  {
   "cell_type": "code",
   "execution_count": 3,
   "metadata": {},
   "outputs": [],
   "source": [
    "fpath = '/Users/yuhangzhan/Git/statement_reader/data/pdf/boa/credit/eStmt_2018-01-28.pdf'"
   ]
  },
  {
   "cell_type": "code",
   "execution_count": 4,
   "metadata": {},
   "outputs": [
    {
     "name": "stderr",
     "output_type": "stream",
     "text": [
      "-2019-06-11 22:26:30,565-BOA-INFO: BOA credit job start\n",
      "-2019-06-11 22:26:30,677-main-INFO: Begin to execute function: get_credit_statement_transaction\n",
      "-2019-06-11 22:26:30,695-main-INFO: Finish executing function: get_credit_statement_transaction\n",
      "-2019-06-11 22:26:30,697-BOA-INFO: BOA credit job finished\n"
     ]
    }
   ],
   "source": [
    "boa = BOA_CREDIT(fpath)"
   ]
  },
  {
   "cell_type": "code",
   "execution_count": 5,
   "metadata": {},
   "outputs": [
    {
     "data": {
      "text/plain": [
       "{'account_type': 'credit',\n",
       " 'account': '1528',\n",
       " 'previous_balance': 291.22,\n",
       " 'payments_and_other_credits': -1458.05,\n",
       " 'fees_charged': 0.0,\n",
       " 'interest_charged': 0.0,\n",
       " 'new_balance_total': 686.21,\n",
       " 'total_credit_line': 1800.0}"
      ]
     },
     "execution_count": 5,
     "metadata": {},
     "output_type": "execute_result"
    }
   ],
   "source": [
    "boa.summary"
   ]
  },
  {
   "cell_type": "markdown",
   "metadata": {},
   "source": [
    "## import conf"
   ]
  },
  {
   "cell_type": "code",
   "execution_count": null,
   "metadata": {},
   "outputs": [],
   "source": [
    "import json"
   ]
  },
  {
   "cell_type": "code",
   "execution_count": null,
   "metadata": {},
   "outputs": [],
   "source": [
    "personal_conf_path = '/Users/yuhangzhan/Git/statement_reader/conf/personal_category_config.json'\n",
    "default_conf_path = '/Users/yuhangzhan/Git/statement_reader/conf/db_default_config.json'\n",
    "def import_conf(file_path):\n",
    "    ''' read configuration json file, return as dict'''\n",
    "    with open(file_path, 'r') as f:\n",
    "        raw_conf = ''.join([line for line in f.readlines() if not line.strip().startswith('//')])\n",
    "        json_conf = json.loads(raw_conf)\n",
    "    conf = {key:[(int(idx), *[val if val else 'Null' for _, val in fields.items()]) \n",
    "                  for idx, fields in value.items() ]\n",
    "           for key, value in json_conf.items()}\n",
    "    return conf"
   ]
  },
  {
   "cell_type": "code",
   "execution_count": null,
   "metadata": {},
   "outputs": [],
   "source": [
    "personal_conf = import_conf(personal_conf_path)\n",
    "default_conf = import_conf(default_conf_path)"
   ]
  },
  {
   "cell_type": "code",
   "execution_count": null,
   "metadata": {},
   "outputs": [],
   "source": [
    "conf = {**default_conf, **personal_conf}"
   ]
  },
  {
   "cell_type": "code",
   "execution_count": null,
   "metadata": {},
   "outputs": [],
   "source": [
    "conf.keys()"
   ]
  },
  {
   "cell_type": "markdown",
   "metadata": {},
   "source": [
    "## import insert conf sql"
   ]
  },
  {
   "cell_type": "code",
   "execution_count": null,
   "metadata": {},
   "outputs": [],
   "source": [
    "insert_conf_sql_path = '/Users/yuhangzhan/Git/statement_reader/src/database/insert_init_setting.sql'\n",
    "def import_conf_query(file_path):\n",
    "    '''read insert conf sql file, return as dict'''\n",
    "    with open(file_path, 'r') as f:\n",
    "        raw_sql = ''.join([line for line in f.readlines() if not line.strip().startswith('--') and line.strip()])\n",
    "    splited_sql = [query for query in raw_sql.split(';') if query]\n",
    "    dict_sql = [(query.split()[2], query.strip()+';') for query in splited_sql]\n",
    "    return dict(dict_sql)"
   ]
  },
  {
   "cell_type": "code",
   "execution_count": null,
   "metadata": {},
   "outputs": [],
   "source": [
    "insert_query = import_conf_query(insert_conf_sql_path)"
   ]
  },
  {
   "cell_type": "markdown",
   "metadata": {},
   "source": [
    "## Connect db"
   ]
  },
  {
   "cell_type": "code",
   "execution_count": null,
   "metadata": {},
   "outputs": [],
   "source": [
    "import sqlite3"
   ]
  },
  {
   "cell_type": "code",
   "execution_count": null,
   "metadata": {},
   "outputs": [],
   "source": [
    "conn = sqlite3.connect('/Users/yuhangzhan/Git/statement_reader/data/db/billing.db')\n",
    "cursor = conn.cursor()"
   ]
  },
  {
   "cell_type": "code",
   "execution_count": null,
   "metadata": {},
   "outputs": [],
   "source": [
    "cursor.executemany(\"INSERT INTO bank (bank_id, bank_name) values (?, ?);\", [(1, 'boa'), (2,'chase')])\n",
    "conn.commit()"
   ]
  },
  {
   "cell_type": "markdown",
   "metadata": {},
   "source": [
    "## insert conf"
   ]
  },
  {
   "cell_type": "code",
   "execution_count": null,
   "metadata": {},
   "outputs": [],
   "source": [
    "for table, query in insert_query.items():\n",
    "    print(table, query, conf[table])"
   ]
  },
  {
   "cell_type": "code",
   "execution_count": null,
   "metadata": {},
   "outputs": [],
   "source": [
    "insert_query"
   ]
  },
  {
   "cell_type": "markdown",
   "metadata": {},
   "source": [
    "## insert trans"
   ]
  },
  {
   "cell_type": "code",
   "execution_count": 6,
   "metadata": {},
   "outputs": [],
   "source": [
    "trans = [tran for _,parts in boa.statement_transaction.items() for tran in parts]"
   ]
  },
  {
   "cell_type": "code",
   "execution_count": 18,
   "metadata": {},
   "outputs": [
    {
     "data": {
      "text/plain": [
       "31"
      ]
     },
     "execution_count": 18,
     "metadata": {},
     "output_type": "execute_result"
    }
   ],
   "source": [
    "len(trans)"
   ]
  },
  {
   "cell_type": "code",
   "execution_count": 16,
   "metadata": {},
   "outputs": [
    {
     "data": {
      "text/plain": [
       "('payment',\n",
       " '2018-01-04',\n",
       " '2018-01-04',\n",
       " 1352,\n",
       " 7577,\n",
       " -300.0,\n",
       " 'Online  from CHK 8')"
      ]
     },
     "execution_count": 16,
     "metadata": {},
     "output_type": "execute_result"
    }
   ],
   "source": [
    "def a():\n",
    "    return tuple([value for _, value in {'types': 'payment',\n",
    "   'transaction_date': '2018-01-04',\n",
    "   'posting_date': '2018-01-04',\n",
    "   'reference_number': 1352,\n",
    "   'account_number': 7577,\n",
    "   'amount': -300.0,\n",
    "   'description': 'Online  from CHK 8'}.items()])\n",
    "a()"
   ]
  },
  {
   "cell_type": "code",
   "execution_count": null,
   "metadata": {},
   "outputs": [],
   "source": [
    "import sqlite3\n",
    "from utility.utils import get_project_path\n",
    "DB_LOC = '/data/db/billing.db'"
   ]
  },
  {
   "cell_type": "code",
   "execution_count": null,
   "metadata": {},
   "outputs": [],
   "source": [
    "db_path = get_project_path('playground.ipynb/..') + DB_LOC\n",
    "conn = sqlite3.connect(db_path)"
   ]
  },
  {
   "cell_type": "code",
   "execution_count": null,
   "metadata": {},
   "outputs": [],
   "source": [
    "cursor = conn.cursor()"
   ]
  },
  {
   "cell_type": "code",
   "execution_count": null,
   "metadata": {},
   "outputs": [],
   "source": [
    "cursor.execute('select card_number from card')\n",
    "res = dict(cursor.fetchall())\n",
    "res"
   ]
  },
  {
   "cell_type": "code",
   "execution_count": null,
   "metadata": {},
   "outputs": [],
   "source": [
    "card_num = set([i['account_number'] for i in trans])"
   ]
  },
  {
   "cell_type": "code",
   "execution_count": null,
   "metadata": {},
   "outputs": [],
   "source": [
    "card_num"
   ]
  },
  {
   "cell_type": "markdown",
   "metadata": {},
   "source": [
    "## Testing class"
   ]
  },
  {
   "cell_type": "code",
   "execution_count": null,
   "metadata": {},
   "outputs": [],
   "source": [
    "class bank():\n",
    "    def __init__(self, file_path):\n",
    "        self.fp = file_path\n",
    "        self.name = None\n",
    "    def ha(self):\n",
    "        print(self.fp + self.name)\n",
    "\n",
    "class boa_test(bank):\n",
    "    def __init__(self, file_path):\n",
    "        super().__init__(file_path)\n",
    "        self.name = \"boa\"\n",
    "    "
   ]
  },
  {
   "cell_type": "code",
   "execution_count": null,
   "metadata": {},
   "outputs": [],
   "source": [
    "b = bank('1')"
   ]
  },
  {
   "cell_type": "code",
   "execution_count": null,
   "metadata": {},
   "outputs": [],
   "source": [
    "t = boa_test('2')"
   ]
  },
  {
   "cell_type": "code",
   "execution_count": null,
   "metadata": {},
   "outputs": [],
   "source": [
    "t.ha()"
   ]
  },
  {
   "cell_type": "code",
   "execution_count": 6,
   "metadata": {},
   "outputs": [
    {
     "data": {
      "text/plain": [
       "'                                                                                                      Customer Service Information:\\n                                                                                                      www.bankofamerica.com\\n                                                                                                      1.800.421.2110\\n                                                                                                      TTY: 1.800.346.3178\\n                                                                                                      Mail billing inquiries to:\\n                                                                                                      Bank of America\\n                                                                                                      P.O. Box 982234\\n                                                                                                      El Paso TX 79998-2234\\n                                                                                                      Mail payment to:\\n                                                                                                      Bank of America\\n                                                                                                      P.O. Box 15019\\n        YUHANG ZHAN\\n                                                                                                      Wilmington DE 19886-5019\\n        7808 VANITY FAIR DR\\n        GREENBELT MD 20770-3327\\n\\n\\n\\n\\n                                                                                                           December 29 - January 28, 2018\\n                                                                                                           Account# 4400 6620 9692 1528\\n\\n\\nAccount Summary                                     Payment Information\\nPrevious Balance                         $291.22    New Balance Total                                                                $686.21\\n\\nPayments and Other Credits             -$1,458.05   Current Payment Due                                                                  $25.00\\n\\nPurchases and Adjustments               $1,853.04\\n\\nFees Charged                               $0.00    Total Minimum Payment Due                                                            $25.00\\n\\nInterest Charged                           $0.00    Payment Due Date                                                              02/25/2018\\n\\n\\nNew Balance Total                        $686.21    Late Payment Warning: If we do not receive your Total Minimum\\n                                                    Payment by the date listed above, you may have to pay a late fee of up to\\nTotal Credit Line                       $1,800.00   $38.00 and your APRs may be increased up to the Penalty APR of 29.99%.\\nTotal Credit Available                  $1,113.79\\n                                                    Total Minimum Payment Warning: If you make only the Total Minimum\\nCash Credit Line                         $200.00\\n                                                    Payment each period, you will pay more in interest and it will take you\\nPortion of Credit Available                         longer to pay off your balance. For example:\\nfor Cash                                 $200.00\\n                                                     If you make no additional You will payoff the                 And you will end up\\nStatement Closing Date                 01/28/2018\\n                                                      charges using this card balance shown on this                paying an estimated\\nDays in Billing Cycle                         31\\n                                                      and each month you pay   statement in about                        total of\\n\\n                                                        Only the Total                       3 years                       $769.00\\n                                                       Minimum Payment\\n                                                    If you would like information about credit counseling services, call\\n                                                    866.300.5238.\\n\\n\\n\\n\\n           28        0006862100002500001458050004400662096921528\\n\\n          BANK OF AMERICA                              Account Number: 4400 6620 9692 1528\\n          P.O. BOX 15019\\n          WILMINGTON DE 19886-5019\\n                                                       New Balance Total                                                    $686.21\\n\\n                                                       Total Minimum Payment Due                                                $25.00\\n\\n                                                         Payment Due Date                                               02/25/2018\\n\\n\\n\\n        YUHANG ZHAN                                    Enter payment amount         $                               .\\n        7808 VANITY FAIR DR\\n        GREENBELT MD 20770-3327\\n                                                           Check here for a change of mailing address or phone numbers.\\n                                                           Please provide all corrections on the reverse side.\\n                                                           Mail this coupon along with your check payable to: Bank of America\\n\\n\\n\\n\\n                                     A524022250A 19622096921528C\\n\\x0cYUHANG ZHAN        ! Account # 4400 6620 9692 1528 ! December 29 - January 28, 2018\\n\\n                                                                                                                                                               004 - 000 - 000 - G\\n\\n\\n\\n\\nIMPORTANT INFORMATION ABOUT THIS ACCOUNT\\n\\nPAYING INTEREST - We will not charge interest on Purchases on the next                         CALCULATION OF BALANCES SUBJECT TO INTEREST RATE\\nstatement if you pay the New Balance Total in full by the Payment Due Date,                    Average Daily Balance Method (including new Purchases): We calculate\\nand you had paid in full by the previous Payment Due Date. We will begin                       separate Balances Subject to an Interest Rate for Purchases and for each\\ncharging interest on Balance Transfers and Cash Advances on the transaction                    Introductory or Promotional Offer balance consisting of Purchases. We do this\\ndate.                                                                                          by: (1) calculating a daily balance for each day in the billing cycle; (2) adding all\\nTOTAL INTEREST CHARGE COMPUTATION - Interest Charges accrue and                                the daily balances together; and (3) dividing the sum of the daily balances by\\nare compounded on a daily basis. To determine the Interest Charges we                          the number of days in the billing cycle.\\nmultiply each Balance Subject to Interest Rate by its applicable Daily Periodic                To calculate the daily balance for each day in this statement\\'s billing cycle, we:\\nRate and that result is multiplied by the number of days in the billing cycle. To              (1) take the beginning balance; (2) add an amount equal to the applicable Daily\\ndetermine the total Interest Charge for the billing cycle, we add the Periodic                 Periodic Rate multiplied by the previous day\\'s daily balance; (3) add new\\nRate Interest Charges together. A Daily Periodic Rate is calculated by dividing                Purchases, new Account Fees, and new Transaction Fees; and (4) subtract\\nan Annual Percentage Rate by 365.                                                              applicable payments and credits. If any daily balance is less than zero we treat\\nHOW WE ALLOCATE YOUR PAYMENTS - Payments are allocated to                                      it as zero.\\nposted balances. If your account has balances with different APRs, we will                     Average Balance Method (including new Balance Transfers and new Cash\\nallocate the amount of your payment equal to the Total Minimum Payment Due                     Advances): We calculate separate Balances Subject to an Interest Rate for\\nto the lowest APR balances first (including transactions made after this                       Balance Transfers, Cash Advances, and for each Introductory or Promotional\\nstatement). Payment amounts in excess of your Total Minimum Payment Due                        Offer balance consisting of Balance Transfers or Cash Advances. We do this by:\\nwill be applied to balances with higher APRs before balances with lower APRs.                  (1) calculating a daily balance for each day in this statement\\'s billing cycle; (2)\\nIMPORTANT INFORMATION ABOUT PAYMENTS BY PHONE - When                                           calculating a daily balance for each day prior to this statement\\'s billing cycle\\nusing the optional Pay-by-Phone service, you authorize us to initiate an                       that had a \"Pre-Cycle balance\" - a Pre-Cycle balance is a Balance Transfer or a\\nelectronic payment from your account at the financial institution you designate.               Cash Advance with a transaction date prior to this statement\\'s billing cycle but\\nYou must authorize the amount and timing of each payment. For your                             with a posting date within this statement\\'s billing cycle; (3) adding all the daily\\nprotection, we will ask for security information. A fee may apply for expedited                balances together; and (4) dividing the sum of the daily balances by the number\\nservice. To cancel, call us before the scheduled payment date. Same-day                        of days in this statement\\'s billing cycle.\\npayments cannot be edited or canceled.                                                         To calculate the daily balance for each day in this statement\\'s billing cycle, we:\\nYOUR CREDIT LINES - The Total Credit Line is the amount of credit                              (1) take the beginning balance; (2) add an amount equal to the applicable Daily\\navailable for the account; however, only a portion of that is available for Bank               Periodic Rate multiplied by the previous day\\'s daily balance; (3) add new\\nCash Advances. The Cash Credit Line is that amount you have available for                      Balance Transfers, new Cash Advances and Transaction Fees; and (4) subtract\\nBank Cash Advances. Generally, Bank Cash Advances consist of ATM Cash                          applicable payments and credits. If any daily balance is less than zero we treat\\nAdvances, Over the Counter (OTC) Cash Advances, Same-Day Online Cash                           it as zero.\\nAdvances, Overdraft Protection Cash Advances, Cash Equivalents, and                            To calculate a daily balance for each day prior to this statement\\'s billing cycle\\napplicable transaction fees.                                                                   that had a Pre-Cycle balance: (1) we take the beginning balance attributable\\nMISCELLANEOUS - Promotional Rate End Date: This date is based on a                             solely to Pre-Cycle balance (which will be zero on the transaction date of the\\nfuture statement closing date. If you change your payment due date, this date                  first Pre-Cycle balance); (2) add an amount equal to the applicable Daily\\ncould change. The New Balance Total which appears on this statement is not a                   Periodic Rate multiplied by the previous day\\'s daily balance; (3) and add only\\npayoff amount and may be subject to additional interest charges when you pay                   the applicable Pre-Cycle balances and their related Transaction Fees. We\\nin full after your statement closing date. Please contact the customer service                 exclude from this calculation all transactions posted in previous billing cycles.\\nnumber located on the front of this statement for a pay-off amount. Virtual\\ncards are the digital form of your eligible physical credit cards stored within a              For the complete terms and conditions of your account, consult your Credit\\ndigital wallet.                                                                                Card Agreement. This account is issued and administered by FIA Card Services.\\n                                                                                               FIA Card Services is a registered trademark of FIA Card Services and/or its\\n                                                                                               affiliates.\\n\\n\\n\\n\\n PAYMENTS - We credit mailed payments as of the date received, if the payment is:               If your billing address or contact information has changed, or if your address is\\n (1) received by 5 p.m. local time at the address shown on the remittance portion of your       incorrect as it appears on this bill, please provide all corrections here.\\n monthly statement; (2) paid with a check drawn in U.S. dollars on a U.S. financial\\n institution or a U.S. dollar money order; and (3) sent in the return envelope with only the\\n remittance portion of your statement accompanying it. Payments received by mail after 5        Address 1\\n p.m. local time at the remittance address on any day including the Payment Due Date, but\\n that otherwise meet the above requirements, will be credited as of the next day. Payments\\n made online or by phone will be credited as of the date of receipt if made by 5 p.m.           Address 2\\n Central. Credit for any other payments may be delayed up to five days. Cash payments\\n made with our tellers or ATM with Teller Assist (ATA) will only be accepted with a valid\\n identification (ID).                                                                           City\\n No payment shall operate as an accord and satisfaction without the prior written approval\\n of one of our Senior Officers.\\n We process most payment checks electronically by using the information found on your           State                                                    Zip\\n check. Each check authorizes us to create a one-time electronic funds transfer (or process\\n it as a check or paper draft). Funds may be withdrawn from your account as soon as the         Area Code &\\n same day we receive your payment. Checks are not returned to you. For more information         Home Phone\\n or to stop the electronic funds transfers, call us at the number listed on the front.\\n If you have authorized us to pay your credit card bill automatically from your savings or      Area Code &\\n checking account with us, you can stop the payment on any amount you think is wrong. To        Work Phone\\n stop payment, your letter must reach us at least three business days before the automatic\\n payment is scheduled to occur.\\n\\x0cYUHANG ZHAN      ! Account # 4400 6620 9692 1528 ! December 29 - January 28, 2018\\n\\n\\n\\n\\nTransactions\\nTransaction   Posting                                                               Reference   Account\\nDate          Date      Description                                                 Number      Number      Amount          Total\\n\\n                        Payments and Other Credits\\n01/04         01/04     Online payment from CHK 8                                     1352       7577      -300.00\\n01/19         01/19     Online payment from CHK 8                                     5258       7577     -1,000.00\\n01/27         01/27     EB SMSA R WORKSHOP FO       801-413-7200 CA                   1786       1528       -26.34\\n01/27         01/27     Amazon.com          AMZN.COM/BILLWA                           4016       7577       -31.72\\n01/27         01/27     AMAZON MKTPLACE PMTS        AMZN.COM/BILLWA                   7670       7577       -99.99\\n                            TOTAL PAYMENTS AND OTHER CREDITS FOR THIS PERIOD                                          -$1,458.05\\n\\n\\n                        Purchases and Adjustments\\n01/07         01/08     NINTENDO OF AMERICA-US 800-255-3700 WA                        1612       7577        19.99\\n01/16         01/17     FOXNEWSST2513          DALLAS      TX                         1956       7577         4.73\\n01/17         01/18     AMAZON MKTPLACE PMTS        AMZN.COM/BILLWA                   4088       7577       106.52\\n01/17         01/18     AMAZON MKTPLACE PMTS WWW.WWW.AMAZON.COWA                      1242       7577        62.96\\n01/18         01/18     UNITEDHEALTHCARE INS       800-767-6703 CT                    5473       7577       968.00\\n01/18         01/19     GIANT 0316        GREENBELT MD                                7427       7577        18.45\\n01/19         01/19     Amazon.com         AMZN.COM/BILLWA                            1321       7577        31.72\\n01/19         01/19     Amazon.com         AMZN.COM/BILLWA                            8113       7577        39.14\\n01/19         01/20     Amazon.com         AMZN.COM/BILLWA                            4239       7577       165.29\\n01/19         01/22     GREAT WALL SUPERMARKET GERMANTOWN MD                          8572       7577       112.60\\n01/20         01/22     Netflix.com      netflix.com CA                               6625       7577        13.99\\n01/21         01/22     IVY NOODLE         COLLEGE PARK MD                            0172       7577         8.45\\n01/21         01/22     WHOLEFDS UMD#10463         RIVERDALE MD                       0192       7577        60.04\\n01/21         01/22     CVS/PHARMACY #01444       COLLEGE PARK MD                     0010       7577        22.03\\n01/21         01/23     SHELL OIL 57543576201 BERWYN HEIGHTMD                         2566       7577        22.42\\n01/22         01/23     IVY NOODLE         COLLEGE PARK MD                            0070       7577        19.65\\n01/22         01/23     CITY OF COLLEGE PARK      COLLEGE PARK MD                     0802       7577         0.75\\n01/22         01/24     STAPLES     00102269 BERWYN HEIGHTMD                          9449       7577         4.24\\n01/26         01/27     EB SMSA R WORKSHOP FO 801-413-7200 CA                         9362       1528        26.34\\n01/26         01/27     IVY NOODLE         COLLEGE PARK MD                            0044       1528         9.50\\n01/26         01/27     PHO VIETNAM ONE         BELTSVILLE MD                         7991       1528        12.00\\n01/26         01/27     COSTCO WHSE #0214        BELTSVILLE MD                        6144       1528        60.70\\n01/26         01/27     EB SMSA R WORKSHOP FO 801-413-7200 CA                         3456       1528        26.34\\n01/26         01/27     CITY OF COLLEGE PARK      COLLEGE PARK MD                     1494       1528         0.75\\n01/26         01/27     CITY OF COLLEGE PARK      COLLEGE PARK MD                     1940       1528         0.75\\n01/26         01/27     L OCCITANE LWEBMO 30800 888-6232880 NY                        8470       1528        35.69\\n                            TOTAL PURCHASES AND ADJUSTMENTS FOR THIS PERIOD                                            $1,853.04\\n\\n\\n                        Interest Charged\\n01/28         01/28     INTEREST CHARGED ON PURCHASES                                                          0.00\\n01/28         01/28     INTEREST CHARGED ON BALANCE TRANSFERS                                                  0.00\\n01/28         01/28     INTEREST CHARGED ON DIR DEP&CHK CASHADV                                                0.00\\n01/28         01/28     INTEREST CHARGED ON BANK CASH ADVANCES                                                 0.00\\n                            TOTAL INTEREST CHARGED FOR THIS PERIOD                                                         $0.00\\n\\n\\n\\n                                            2018 Totals Year-to-Date\\n\\n                           Total fees charged in 2018                               $0.00\\n\\n                           Total interest charged in 2018                           $0.00\\n\\n\\n\\n\\n                                                                                                                       Page 3 of 4\\n\\x0cYUHANG ZHAN     ! Account # 4400 6620 9692 1528 ! December 29 - January 28, 2018\\n\\n\\n\\n\\nInterest Charge Calculation\\n Your Annual Percentage Rate (APR) is the annual interest rate on your account.\\n\\n Type of                                   Annual           Promotional      Promotional        Promotional          Balance            Interest\\n Balance                                   Percentage       Transaction      Offer ID           Rate End             Subject to         Charges by\\n                                           Rate             Type                                Date                 Interest           Transaction\\n                                                                                                                     Rate               Type\\n\\n\\n Purchases                                 16.24% V                                                              $           0.00   $           0.00\\n     Promotional APR                        0.00%           PUR, WT          KS21-33402         08/28/2018       $           0.00   $           0.00\\n Balance Transfers                         16.24% V                                                              $           0.00   $           0.00\\n Direct Deposit and Check Cash             19.24% V                                                              $           0.00   $           0.00\\n Advances\\n Bank Cash Advances                        26.24% V                                                              $           0.00   $           0.00\\n\\n\\n APR Type Definitions Promotional Transaction Types: PUR = Purchase, WT = Non-Bank Wire Transfer; Daily Interest Rate Type: V= Variable Rate (rate\\n may vary); APR Type: Promotional APR (APR for limited time on eligible transactions)\\n\\n\\n\\n\\n Your Reward Summary\\n           16.96       BASE EARNED THIS MONTH\\n                                                                                                 Make the most of your\\n            2.97       BONUS THIS MONTH\\n                                                                                                rewards program today!\\n        186.73         TOTAL AVAILABLE\\n\\n VISIT BANKOFAMERICA.COM\\n\\n\\n\\n\\n                                                                                                                                                      Page 4 of 4\\n\\x0c'"
      ]
     },
     "execution_count": 6,
     "metadata": {},
     "output_type": "execute_result"
    }
   ],
   "source": [
    "boa.raw_pdf_string"
   ]
  },
  {
   "cell_type": "code",
   "execution_count": null,
   "metadata": {},
   "outputs": [],
   "source": [
    "re.findall('Account#[\\s\\d{4}]+\\s(\\d{4})', boa.raw_pdf_string)"
   ]
  },
  {
   "cell_type": "code",
   "execution_count": null,
   "metadata": {},
   "outputs": [],
   "source": []
  }
 ],
 "metadata": {
  "kernelspec": {
   "display_name": "Python3.6(pdf)",
   "language": "python",
   "name": "pdf_project"
  },
  "language_info": {
   "codemirror_mode": {
    "name": "ipython",
    "version": 3
   },
   "file_extension": ".py",
   "mimetype": "text/x-python",
   "name": "python",
   "nbconvert_exporter": "python",
   "pygments_lexer": "ipython3",
   "version": "3.6.8"
  }
 },
 "nbformat": 4,
 "nbformat_minor": 2
}
