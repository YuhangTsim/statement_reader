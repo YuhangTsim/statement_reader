{
 "cells": [
  {
   "cell_type": "code",
   "execution_count": null,
   "metadata": {},
   "outputs": [],
   "source": [
    "import sys\n",
    "sys.path.append('/Users/yuhangzhan/Git/statement_reader')"
   ]
  },
  {
   "cell_type": "code",
   "execution_count": null,
   "metadata": {},
   "outputs": [],
   "source": [
    "from boa import BOA_CREDIT"
   ]
  },
  {
   "cell_type": "code",
   "execution_count": null,
   "metadata": {},
   "outputs": [],
   "source": [
    "fpath = '/Users/yuhangzhan/Git/statement_reader/data/pdf/boa/credit/eStmt_2018-01-28.pdf'"
   ]
  },
  {
   "cell_type": "code",
   "execution_count": null,
   "metadata": {},
   "outputs": [],
   "source": [
    "boa = BOA_CREDIT(fpath)"
   ]
  },
  {
   "cell_type": "code",
   "execution_count": null,
   "metadata": {},
   "outputs": [],
   "source": [
    "boa.summary"
   ]
  },
  {
   "cell_type": "markdown",
   "metadata": {},
   "source": [
    "## import conf"
   ]
  },
  {
   "cell_type": "code",
   "execution_count": null,
   "metadata": {},
   "outputs": [],
   "source": [
    "import json"
   ]
  },
  {
   "cell_type": "code",
   "execution_count": null,
   "metadata": {},
   "outputs": [],
   "source": [
    "personal_conf_path = '/Users/yuhangzhan/Git/statement_reader/conf/personal_category_config.json'\n",
    "default_conf_path = '/Users/yuhangzhan/Git/statement_reader/conf/db_default_config.json'\n",
    "def import_conf(file_path):\n",
    "    ''' read configuration json file, return as dict'''\n",
    "    with open(file_path, 'r') as f:\n",
    "        raw_conf = ''.join([line for line in f.readlines() if not line.strip().startswith('//')])\n",
    "        json_conf = json.loads(raw_conf)\n",
    "    conf = {key:[(int(idx), *[val if val else 'Null' for _, val in fields.items()]) \n",
    "                  for idx, fields in value.items() ]\n",
    "           for key, value in json_conf.items()}\n",
    "    return conf"
   ]
  },
  {
   "cell_type": "code",
   "execution_count": null,
   "metadata": {},
   "outputs": [],
   "source": [
    "personal_conf = import_conf(personal_conf_path)\n",
    "default_conf = import_conf(default_conf_path)"
   ]
  },
  {
   "cell_type": "code",
   "execution_count": null,
   "metadata": {},
   "outputs": [],
   "source": [
    "conf = {**default_conf, **personal_conf}"
   ]
  },
  {
   "cell_type": "code",
   "execution_count": null,
   "metadata": {},
   "outputs": [],
   "source": [
    "conf.keys()"
   ]
  },
  {
   "cell_type": "markdown",
   "metadata": {},
   "source": [
    "## import insert conf sql"
   ]
  },
  {
   "cell_type": "code",
   "execution_count": null,
   "metadata": {},
   "outputs": [],
   "source": [
    "insert_conf_sql_path = '/Users/yuhangzhan/Git/statement_reader/src/database/insert_init_setting.sql'\n",
    "def import_conf_query(file_path):\n",
    "    '''read insert conf sql file, return as dict'''\n",
    "    with open(file_path, 'r') as f:\n",
    "        raw_sql = ''.join([line for line in f.readlines() if not line.strip().startswith('--') and line.strip()])\n",
    "    splited_sql = [query for query in raw_sql.split(';') if query]\n",
    "    dict_sql = [(query.split()[2], query.strip()+';') for query in splited_sql]\n",
    "    return dict(dict_sql)"
   ]
  },
  {
   "cell_type": "code",
   "execution_count": null,
   "metadata": {},
   "outputs": [],
   "source": [
    "insert_query = import_conf_query(insert_conf_sql_path)"
   ]
  },
  {
   "cell_type": "markdown",
   "metadata": {},
   "source": [
    "## Connect db"
   ]
  },
  {
   "cell_type": "code",
   "execution_count": null,
   "metadata": {},
   "outputs": [],
   "source": [
    "import sqlite3"
   ]
  },
  {
   "cell_type": "code",
   "execution_count": null,
   "metadata": {},
   "outputs": [],
   "source": [
    "conn = sqlite3.connect('/Users/yuhangzhan/Git/statement_reader/data/db/billing.db')\n",
    "cursor = conn.cursor()"
   ]
  },
  {
   "cell_type": "code",
   "execution_count": null,
   "metadata": {},
   "outputs": [],
   "source": [
    "cursor.executemany(\"INSERT INTO bank (bank_id, bank_name) values (?, ?);\", [(1, 'boa'), (2,'chase')])\n",
    "conn.commit()"
   ]
  },
  {
   "cell_type": "markdown",
   "metadata": {},
   "source": [
    "## insert conf"
   ]
  },
  {
   "cell_type": "code",
   "execution_count": null,
   "metadata": {},
   "outputs": [],
   "source": [
    "for table, query in insert_query.items():\n",
    "    print(table, query, conf[table])"
   ]
  },
  {
   "cell_type": "code",
   "execution_count": null,
   "metadata": {},
   "outputs": [],
   "source": [
    "insert_query"
   ]
  },
  {
   "cell_type": "markdown",
   "metadata": {},
   "source": [
    "## insert trans"
   ]
  },
  {
   "cell_type": "code",
   "execution_count": null,
   "metadata": {},
   "outputs": [],
   "source": [
    "boa.statement_info['purchase']"
   ]
  },
  {
   "cell_type": "code",
   "execution_count": null,
   "metadata": {},
   "outputs": [],
   "source": []
  }
 ],
 "metadata": {
  "kernelspec": {
   "display_name": "Python3.6(pdf)",
   "language": "python",
   "name": "pdf_project"
  },
  "language_info": {
   "codemirror_mode": {
    "name": "ipython",
    "version": 3
   },
   "file_extension": ".py",
   "mimetype": "text/x-python",
   "name": "python",
   "nbconvert_exporter": "python",
   "pygments_lexer": "ipython3",
   "version": "3.6.8"
  }
 },
 "nbformat": 4,
 "nbformat_minor": 2
}
