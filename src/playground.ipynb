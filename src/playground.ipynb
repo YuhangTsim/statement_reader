{
 "cells": [
  {
   "cell_type": "code",
   "execution_count": 1,
   "metadata": {},
   "outputs": [],
   "source": [
    "import sys\n",
    "sys.path.append('/Users/yuhangzhan/Git/statement_reader')"
   ]
  },
  {
   "cell_type": "code",
   "execution_count": 2,
   "metadata": {},
   "outputs": [],
   "source": [
    "from boa import BOA_CREDIT"
   ]
  },
  {
   "cell_type": "code",
   "execution_count": 3,
   "metadata": {},
   "outputs": [],
   "source": [
    "fpath = '/Users/yuhangzhan/Git/statement_reader/data/pdf/boa/credit/eStmt_2018-01-28.pdf'"
   ]
  },
  {
   "cell_type": "code",
   "execution_count": 4,
   "metadata": {},
   "outputs": [
    {
     "name": "stderr",
     "output_type": "stream",
     "text": [
      "-2019-05-14 23:37:04,060-BOA-INFO: BOA credit job start\n",
      "-2019-05-14 23:37:04,265-main-INFO: Begin to execute function: get_credit_statement_info\n",
      "-2019-05-14 23:37:04,274-main-INFO: Finish executing function: get_credit_statement_info\n",
      "-2019-05-14 23:37:04,274-BOA-INFO: BOA credit job finished\n"
     ]
    }
   ],
   "source": [
    "boa = BOA_CREDIT(fpath)"
   ]
  },
  {
   "cell_type": "code",
   "execution_count": 5,
   "metadata": {},
   "outputs": [
    {
     "data": {
      "text/plain": [
       "{'previous_balance': 291.22,\n",
       " 'payments_and_other_credits': -1458.05,\n",
       " 'fees_charged': 0.0,\n",
       " 'interest_charged': 0.0,\n",
       " 'new_balance_total': 686.21}"
      ]
     },
     "execution_count": 5,
     "metadata": {},
     "output_type": "execute_result"
    }
   ],
   "source": [
    "boa.summary"
   ]
  },
  {
   "cell_type": "markdown",
   "metadata": {},
   "source": [
    "## import conf"
   ]
  },
  {
   "cell_type": "code",
   "execution_count": 10,
   "metadata": {},
   "outputs": [],
   "source": [
    "import json"
   ]
  },
  {
   "cell_type": "code",
   "execution_count": 41,
   "metadata": {},
   "outputs": [],
   "source": [
    "personal_conf_path = '/Users/yuhangzhan/Git/statement_reader/conf/personal_category_config.json'\n",
    "default_conf_path = '/Users/yuhangzhan/Git/statement_reader/conf/db_default_config.json'\n",
    "def import_conf(file_path):\n",
    "    ''' read configuration json file, return as dict'''\n",
    "    with open(file_path, 'r') as f:\n",
    "        raw_conf = ''.join([line for line in f.readlines() if not line.strip().startswith('//')])\n",
    "        json_conf = json.loads(raw_conf)\n",
    "    conf = {key:[(int(idx), *[val if val else 'Null' for _, val in fields.items()]) \n",
    "                  for idx, fields in value.items() ]\n",
    "           for key, value in json_conf.items()}\n",
    "    return conf"
   ]
  },
  {
   "cell_type": "code",
   "execution_count": 84,
   "metadata": {},
   "outputs": [],
   "source": [
    "personal_conf = import_conf(personal_conf_path)\n",
    "default_conf = import_conf(default_conf_path)"
   ]
  },
  {
   "cell_type": "code",
   "execution_count": 85,
   "metadata": {},
   "outputs": [],
   "source": [
    "conf = {**default_conf, **personal_conf}"
   ]
  },
  {
   "cell_type": "code",
   "execution_count": 86,
   "metadata": {},
   "outputs": [
    {
     "data": {
      "text/plain": [
       "dict_keys(['bank', 'account_type', 'card_type', 'transaction_type', 'personal_category'])"
      ]
     },
     "execution_count": 86,
     "metadata": {},
     "output_type": "execute_result"
    }
   ],
   "source": [
    "conf.keys()"
   ]
  },
  {
   "cell_type": "markdown",
   "metadata": {},
   "source": [
    "## import insert conf sql"
   ]
  },
  {
   "cell_type": "code",
   "execution_count": 108,
   "metadata": {},
   "outputs": [],
   "source": [
    "insert_conf_sql_path = '/Users/yuhangzhan/Git/statement_reader/src/database/insert_init_setting.sql'\n",
    "def import_conf_query(file_path):\n",
    "    '''read insert conf sql file, return as dict'''\n",
    "    with open(file_path, 'r') as f:\n",
    "        raw_sql = ''.join([line for line in f.readlines() if not line.strip().startswith('--') and line.strip()])\n",
    "    splited_sql = [query for query in raw_sql.split(';') if query]\n",
    "    dict_sql = [(query.split()[2], query.strip()+';') for query in splited_sql]\n",
    "    return dict(dict_sql)"
   ]
  },
  {
   "cell_type": "code",
   "execution_count": 109,
   "metadata": {},
   "outputs": [],
   "source": [
    "insert_query = import_conf_query(insert_conf_sql_path)"
   ]
  },
  {
   "cell_type": "markdown",
   "metadata": {},
   "source": [
    "## Connect db"
   ]
  },
  {
   "cell_type": "code",
   "execution_count": 90,
   "metadata": {},
   "outputs": [],
   "source": [
    "import sqlite3"
   ]
  },
  {
   "cell_type": "code",
   "execution_count": 102,
   "metadata": {},
   "outputs": [],
   "source": [
    "conn = sqlite3.connect('/Users/yuhangzhan/Git/statement_reader/data/db/billing.db')\n",
    "cursor = conn.cursor()"
   ]
  },
  {
   "cell_type": "code",
   "execution_count": 103,
   "metadata": {},
   "outputs": [],
   "source": [
    "cursor.executemany(\"INSERT INTO bank (bank_id, bank_name) values (?, ?);\", [(1, 'boa'), (2,'chase')])\n",
    "conn.commit()"
   ]
  },
  {
   "cell_type": "markdown",
   "metadata": {},
   "source": [
    "## insert conf"
   ]
  },
  {
   "cell_type": "code",
   "execution_count": 110,
   "metadata": {},
   "outputs": [
    {
     "name": "stdout",
     "output_type": "stream",
     "text": [
      "bank INSERT INTO bank (bank_id, bank_name) values (?, ?); [(1, 'boa'), (2, 'chase')]\n",
      "account_type INSERT INTO account_type (account_type_id, DESCRIPTION) values (?, ?); [(1, 'checking'), (2, 'saving')]\n",
      "card_type INSERT INTO card_type (card_type_id, DESCRIPTION) values (?, ?); [(1, 'debit'), (2, 'credit')]\n",
      "transaction_type INSERT INTO transaction_type (transaction_type_id, bank_id, DESCRIPTION) values (?, ?, ?); [(1, 1, 'payment'), (2, 1, 'purchase'), (3, 1, 'fee'), (4, 1, 'interest')]\n",
      "personal_category INSERT INTO personal_category (p_category_id, DESCRIPTION, COMMENT) values (?, ?, ?); [(1, 'deposit', 'transfer, deposit, wire transfer'), (2, 'study', 'Null'), (3, 'food', 'resturuant, cafe'), (4, 'shopping', 'Null'), (5, 'commute', 'parking, garage, gas, car insurance, ticket'), (6, 'living', 'gorcery, healcare'), (7, 'housing', 'rantal, utility, apt insurance'), (8, 'travel', 'Null'), (9, 'car', 'Null'), (10, 'oudoor', 'equipment, traning, membership fee')]\n"
     ]
    }
   ],
   "source": [
    "for table, query in insert_query.items():\n",
    "    print(table, query, conf[table])"
   ]
  },
  {
   "cell_type": "code",
   "execution_count": 107,
   "metadata": {},
   "outputs": [
    {
     "data": {
      "text/plain": [
       "{'(bank_id,': 'INSERT INTO bank (bank_id, bank_name) values (?, ?);',\n",
       " '(account_type_id,': 'INSERT INTO account_type (account_type_id, DESCRIPTION) values (?, ?);',\n",
       " '(card_type_id,': 'INSERT INTO card_type (card_type_id, DESCRIPTION) values (?, ?);',\n",
       " '(transaction_type_id,': 'INSERT INTO transaction_type (transaction_type_id, bank_id, DESCRIPTION) values (?, ?, ?);',\n",
       " '(p_category_id,': 'INSERT INTO personal_category (p_category_id, DESCRIPTION, COMMENT) values (?, ?, ?);'}"
      ]
     },
     "execution_count": 107,
     "metadata": {},
     "output_type": "execute_result"
    }
   ],
   "source": [
    "insert_query"
   ]
  },
  {
   "cell_type": "markdown",
   "metadata": {},
   "source": [
    "## insert trans"
   ]
  },
  {
   "cell_type": "code",
   "execution_count": 6,
   "metadata": {},
   "outputs": [
    {
     "data": {
      "text/plain": [
       "[{'types': 'purchase',\n",
       "  'transaction_date': '2018-01-07',\n",
       "  'posting_date': '2018-01-08',\n",
       "  'reference_number': 1612,\n",
       "  'account_number': 7577,\n",
       "  'amount': 19.99,\n",
       "  'description': 'NINTENDO OF AMERICA-US 800-255-3700 WA'},\n",
       " {'types': 'purchase',\n",
       "  'transaction_date': '2018-01-16',\n",
       "  'posting_date': '2018-01-17',\n",
       "  'reference_number': 1956,\n",
       "  'account_number': 7577,\n",
       "  'amount': 4.73,\n",
       "  'description': 'FOXNEWSST2513          DALLAS      TX'},\n",
       " {'types': 'purchase',\n",
       "  'transaction_date': '2018-01-17',\n",
       "  'posting_date': '2018-01-18',\n",
       "  'reference_number': 4088,\n",
       "  'account_number': 7577,\n",
       "  'amount': 106.52,\n",
       "  'description': 'AMAZON MKTPLACE PMTS        AMZN.COM/BILLWA'},\n",
       " {'types': 'purchase',\n",
       "  'transaction_date': '2018-01-17',\n",
       "  'posting_date': '2018-01-18',\n",
       "  'reference_number': 1242,\n",
       "  'account_number': 7577,\n",
       "  'amount': 62.96,\n",
       "  'description': 'AMAZON MKTPLACE PMTS WWW.WWW.AMAZON.COWA'},\n",
       " {'types': 'purchase',\n",
       "  'transaction_date': '2018-01-18',\n",
       "  'posting_date': '2018-01-18',\n",
       "  'reference_number': 5473,\n",
       "  'account_number': 7577,\n",
       "  'amount': 968.0,\n",
       "  'description': 'UNITEDHEALTHCARE INS       800-767-6703 CT'},\n",
       " {'types': 'purchase',\n",
       "  'transaction_date': '2018-01-18',\n",
       "  'posting_date': '2018-01-19',\n",
       "  'reference_number': 7427,\n",
       "  'account_number': 7577,\n",
       "  'amount': 18.45,\n",
       "  'description': 'GIANT 0316        GREENBELT MD'},\n",
       " {'types': 'purchase',\n",
       "  'transaction_date': '2018-01-19',\n",
       "  'posting_date': '2018-01-19',\n",
       "  'reference_number': 1321,\n",
       "  'account_number': 7577,\n",
       "  'amount': 31.72,\n",
       "  'description': 'Amazon.com         AMZN.COM/BILLWA'},\n",
       " {'types': 'purchase',\n",
       "  'transaction_date': '2018-01-19',\n",
       "  'posting_date': '2018-01-19',\n",
       "  'reference_number': 8113,\n",
       "  'account_number': 7577,\n",
       "  'amount': 39.14,\n",
       "  'description': 'Amazon.com         AMZN.COM/BILLWA'},\n",
       " {'types': 'purchase',\n",
       "  'transaction_date': '2018-01-19',\n",
       "  'posting_date': '2018-01-20',\n",
       "  'reference_number': 4239,\n",
       "  'account_number': 7577,\n",
       "  'amount': 165.29,\n",
       "  'description': 'Amazon.com         AMZN.COM/BILLWA'},\n",
       " {'types': 'purchase',\n",
       "  'transaction_date': '2018-01-19',\n",
       "  'posting_date': '2018-01-22',\n",
       "  'reference_number': 8572,\n",
       "  'account_number': 7577,\n",
       "  'amount': 112.6,\n",
       "  'description': 'GREAT WALL SUPERMARKET GERMANTOWN MD'},\n",
       " {'types': 'purchase',\n",
       "  'transaction_date': '2018-01-20',\n",
       "  'posting_date': '2018-01-22',\n",
       "  'reference_number': 6625,\n",
       "  'account_number': 7577,\n",
       "  'amount': 13.99,\n",
       "  'description': 'Netflix.com      netflix.com CA'},\n",
       " {'types': 'purchase',\n",
       "  'transaction_date': '2018-01-21',\n",
       "  'posting_date': '2018-01-22',\n",
       "  'reference_number': 172,\n",
       "  'account_number': 7577,\n",
       "  'amount': 8.45,\n",
       "  'description': 'IVY NOODLE         COLLEGE PARK MD'},\n",
       " {'types': 'purchase',\n",
       "  'transaction_date': '2018-01-21',\n",
       "  'posting_date': '2018-01-22',\n",
       "  'reference_number': 192,\n",
       "  'account_number': 7577,\n",
       "  'amount': 60.04,\n",
       "  'description': 'WHOLEFDS UMD#10463         RIVERDALE MD'},\n",
       " {'types': 'purchase',\n",
       "  'transaction_date': '2018-01-21',\n",
       "  'posting_date': '2018-01-22',\n",
       "  'reference_number': 10,\n",
       "  'account_number': 7577,\n",
       "  'amount': 22.03,\n",
       "  'description': 'CVS/PHARMACY #01444       COLLEGE PARK MD'},\n",
       " {'types': 'purchase',\n",
       "  'transaction_date': '2018-01-21',\n",
       "  'posting_date': '2018-01-23',\n",
       "  'reference_number': 2566,\n",
       "  'account_number': 7577,\n",
       "  'amount': 22.42,\n",
       "  'description': 'SHELL OIL 57543576201 BERWYN HEIGHTMD'},\n",
       " {'types': 'purchase',\n",
       "  'transaction_date': '2018-01-22',\n",
       "  'posting_date': '2018-01-23',\n",
       "  'reference_number': 70,\n",
       "  'account_number': 7577,\n",
       "  'amount': 19.65,\n",
       "  'description': 'IVY NOODLE         COLLEGE PARK MD'},\n",
       " {'types': 'purchase',\n",
       "  'transaction_date': '2018-01-22',\n",
       "  'posting_date': '2018-01-23',\n",
       "  'reference_number': 802,\n",
       "  'account_number': 7577,\n",
       "  'amount': 0.75,\n",
       "  'description': 'CITY OF COLLEGE PARK      COLLEGE PARK MD'},\n",
       " {'types': 'purchase',\n",
       "  'transaction_date': '2018-01-22',\n",
       "  'posting_date': '2018-01-24',\n",
       "  'reference_number': 9449,\n",
       "  'account_number': 7577,\n",
       "  'amount': 4.24,\n",
       "  'description': 'STAPLES     00102269 BERWYN HEIGHTMD'},\n",
       " {'types': 'purchase',\n",
       "  'transaction_date': '2018-01-26',\n",
       "  'posting_date': '2018-01-27',\n",
       "  'reference_number': 9362,\n",
       "  'account_number': 1528,\n",
       "  'amount': 26.34,\n",
       "  'description': 'EB SMSA R WORKSHOP FO 801-413-7200 CA'},\n",
       " {'types': 'purchase',\n",
       "  'transaction_date': '2018-01-26',\n",
       "  'posting_date': '2018-01-27',\n",
       "  'reference_number': 44,\n",
       "  'account_number': 1528,\n",
       "  'amount': 9.5,\n",
       "  'description': 'IVY NOODLE         COLLEGE PARK MD'},\n",
       " {'types': 'purchase',\n",
       "  'transaction_date': '2018-01-26',\n",
       "  'posting_date': '2018-01-27',\n",
       "  'reference_number': 7991,\n",
       "  'account_number': 1528,\n",
       "  'amount': 12.0,\n",
       "  'description': 'PHO VIETNAM ONE         BELTSVILLE MD'},\n",
       " {'types': 'purchase',\n",
       "  'transaction_date': '2018-01-26',\n",
       "  'posting_date': '2018-01-27',\n",
       "  'reference_number': 6144,\n",
       "  'account_number': 1528,\n",
       "  'amount': 60.7,\n",
       "  'description': 'COSTCO WHSE #0214        BELTSVILLE MD'},\n",
       " {'types': 'purchase',\n",
       "  'transaction_date': '2018-01-26',\n",
       "  'posting_date': '2018-01-27',\n",
       "  'reference_number': 3456,\n",
       "  'account_number': 1528,\n",
       "  'amount': 26.34,\n",
       "  'description': 'EB SMSA R WORKSHOP FO 801-413-7200 CA'},\n",
       " {'types': 'purchase',\n",
       "  'transaction_date': '2018-01-26',\n",
       "  'posting_date': '2018-01-27',\n",
       "  'reference_number': 1494,\n",
       "  'account_number': 1528,\n",
       "  'amount': 0.75,\n",
       "  'description': 'CITY OF COLLEGE PARK      COLLEGE PARK MD'},\n",
       " {'types': 'purchase',\n",
       "  'transaction_date': '2018-01-26',\n",
       "  'posting_date': '2018-01-27',\n",
       "  'reference_number': 1940,\n",
       "  'account_number': 1528,\n",
       "  'amount': 0.75,\n",
       "  'description': 'CITY OF COLLEGE PARK      COLLEGE PARK MD'},\n",
       " {'types': 'purchase',\n",
       "  'transaction_date': '2018-01-26',\n",
       "  'posting_date': '2018-01-27',\n",
       "  'reference_number': 8470,\n",
       "  'account_number': 1528,\n",
       "  'amount': 35.69,\n",
       "  'description': 'L OCCITANE LWEBMO 30800 888-6232880 NY'}]"
      ]
     },
     "execution_count": 6,
     "metadata": {},
     "output_type": "execute_result"
    }
   ],
   "source": [
    "boa.statement_info['purchase']"
   ]
  },
  {
   "cell_type": "code",
   "execution_count": null,
   "metadata": {},
   "outputs": [],
   "source": []
  }
 ],
 "metadata": {
  "kernelspec": {
   "display_name": "Python3.6(pdf)",
   "language": "python",
   "name": "pdf_project"
  },
  "language_info": {
   "codemirror_mode": {
    "name": "ipython",
    "version": 3
   },
   "file_extension": ".py",
   "mimetype": "text/x-python",
   "name": "python",
   "nbconvert_exporter": "python",
   "pygments_lexer": "ipython3",
   "version": "3.6.8"
  }
 },
 "nbformat": 4,
 "nbformat_minor": 2
}
